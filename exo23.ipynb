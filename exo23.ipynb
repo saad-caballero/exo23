{
 "cells": [
  {
   "cell_type": "code",
   "execution_count": 1,
   "id": "f33bcb66-1814-4138-8d87-20db6eb1951b",
   "metadata": {},
   "outputs": [
    {
     "name": "stdout",
     "output_type": "stream",
     "text": [
      "Bienvenue au jeu Devinez le Numéro !\n",
      "Je pense à un numéro entre 1 et 100. Pouvez-vous deviner lequel c'est ?\n"
     ]
    },
    {
     "name": "stdin",
     "output_type": "stream",
     "text": [
      "Entrez votre estimation :  50\n"
     ]
    },
    {
     "name": "stdout",
     "output_type": "stream",
     "text": [
      "Votre estimation est trop basse. Essayez encore.\n"
     ]
    },
    {
     "name": "stdin",
     "output_type": "stream",
     "text": [
      "Entrez votre estimation :  60\n"
     ]
    },
    {
     "name": "stdout",
     "output_type": "stream",
     "text": [
      "Votre estimation est trop basse. Essayez encore.\n"
     ]
    },
    {
     "name": "stdin",
     "output_type": "stream",
     "text": [
      "Entrez votre estimation :  70\n"
     ]
    },
    {
     "name": "stdout",
     "output_type": "stream",
     "text": [
      "Votre estimation est trop basse. Essayez encore.\n"
     ]
    },
    {
     "name": "stdin",
     "output_type": "stream",
     "text": [
      "Entrez votre estimation :  80\n"
     ]
    },
    {
     "name": "stdout",
     "output_type": "stream",
     "text": [
      "Votre estimation est trop basse. Essayez encore.\n"
     ]
    },
    {
     "name": "stdin",
     "output_type": "stream",
     "text": [
      "Entrez votre estimation :  90\n"
     ]
    },
    {
     "name": "stdout",
     "output_type": "stream",
     "text": [
      "Votre estimation est trop haute. Essayez encore.\n"
     ]
    },
    {
     "name": "stdin",
     "output_type": "stream",
     "text": [
      "Entrez votre estimation :  85\n"
     ]
    },
    {
     "name": "stdout",
     "output_type": "stream",
     "text": [
      "Votre estimation est trop basse. Essayez encore.\n"
     ]
    },
    {
     "name": "stdin",
     "output_type": "stream",
     "text": [
      "Entrez votre estimation :  89\n"
     ]
    },
    {
     "name": "stdout",
     "output_type": "stream",
     "text": [
      "Votre estimation est trop haute. Essayez encore.\n"
     ]
    },
    {
     "name": "stdin",
     "output_type": "stream",
     "text": [
      "Entrez votre estimation :  87\n"
     ]
    },
    {
     "name": "stdout",
     "output_type": "stream",
     "text": [
      "Votre estimation est trop basse. Essayez encore.\n"
     ]
    },
    {
     "name": "stdin",
     "output_type": "stream",
     "text": [
      "Entrez votre estimation :  84\n"
     ]
    },
    {
     "name": "stdout",
     "output_type": "stream",
     "text": [
      "Votre estimation est trop basse. Essayez encore.\n"
     ]
    },
    {
     "name": "stdin",
     "output_type": "stream",
     "text": [
      "Entrez votre estimation :  85\n"
     ]
    },
    {
     "name": "stdout",
     "output_type": "stream",
     "text": [
      "Votre estimation est trop basse. Essayez encore.\n"
     ]
    },
    {
     "name": "stdin",
     "output_type": "stream",
     "text": [
      "Entrez votre estimation :  86\n"
     ]
    },
    {
     "name": "stdout",
     "output_type": "stream",
     "text": [
      "Votre estimation est trop basse. Essayez encore.\n"
     ]
    },
    {
     "name": "stdin",
     "output_type": "stream",
     "text": [
      "Entrez votre estimation :  81\n"
     ]
    },
    {
     "name": "stdout",
     "output_type": "stream",
     "text": [
      "Votre estimation est trop basse. Essayez encore.\n"
     ]
    },
    {
     "name": "stdin",
     "output_type": "stream",
     "text": [
      "Entrez votre estimation :  82\n"
     ]
    },
    {
     "name": "stdout",
     "output_type": "stream",
     "text": [
      "Votre estimation est trop basse. Essayez encore.\n"
     ]
    },
    {
     "name": "stdin",
     "output_type": "stream",
     "text": [
      "Entrez votre estimation :  83\n"
     ]
    },
    {
     "name": "stdout",
     "output_type": "stream",
     "text": [
      "Votre estimation est trop basse. Essayez encore.\n"
     ]
    },
    {
     "name": "stdin",
     "output_type": "stream",
     "text": [
      "Entrez votre estimation :  89\n"
     ]
    },
    {
     "name": "stdout",
     "output_type": "stream",
     "text": [
      "Votre estimation est trop haute. Essayez encore.\n"
     ]
    },
    {
     "name": "stdin",
     "output_type": "stream",
     "text": [
      "Entrez votre estimation :  88\n"
     ]
    },
    {
     "name": "stdout",
     "output_type": "stream",
     "text": [
      "Félicitations ! Vous avez deviné le numéro correctement en 16 essais.\n"
     ]
    }
   ],
   "source": [
    "import random\n",
    "\n",
    "def devine_le_numero():\n",
    "    print(\"Bienvenue au jeu Devinez le Numéro !\")\n",
    "    print(\"Je pense à un numéro entre 1 et 100. Pouvez-vous deviner lequel c'est ?\")\n",
    "\n",
    "    numero_a_deviner = random.randint(1, 100)\n",
    "    estimation = None\n",
    "    essais = 0\n",
    "\n",
    "    while estimation != numero_a_deviner:\n",
    "        try:\n",
    "            estimation = int(input(\"Entrez votre estimation : \"))\n",
    "            essais += 1\n",
    "\n",
    "            if estimation < numero_a_deviner:\n",
    "                print(\"Votre estimation est trop basse. Essayez encore.\")\n",
    "            elif estimation > numero_a_deviner:\n",
    "                print(\"Votre estimation est trop haute. Essayez encore.\")\n",
    "            else:\n",
    "                print(f\"Félicitations ! Vous avez deviné le numéro correctement en {essais} essais.\")\n",
    "        except ValueError:\n",
    "            print(\"Veuillez entrer un nombre entier valide.\")\n",
    "\n",
    "if __name__ == \"__main__\":\n",
    "    devine_le_numero()\n"
   ]
  },
  {
   "cell_type": "code",
   "execution_count": null,
   "id": "34dfcb03-ba24-420f-9196-10485f257c32",
   "metadata": {},
   "outputs": [],
   "source": []
  }
 ],
 "metadata": {
  "kernelspec": {
   "display_name": "Python 3 (ipykernel)",
   "language": "python",
   "name": "python3"
  },
  "language_info": {
   "codemirror_mode": {
    "name": "ipython",
    "version": 3
   },
   "file_extension": ".py",
   "mimetype": "text/x-python",
   "name": "python",
   "nbconvert_exporter": "python",
   "pygments_lexer": "ipython3",
   "version": "3.11.5"
  }
 },
 "nbformat": 4,
 "nbformat_minor": 5
}
